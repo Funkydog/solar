{
 "cells": [
  {
   "cell_type": "markdown",
   "metadata": {},
   "source": [
    "# Performance des panneaux photovoltaïques\n",
    "\n",
    "## Fichier 1 : Diagramme JV (Densité de courant J en fonction de la tention V)"
   ]
  },
  {
   "cell_type": "markdown",
   "metadata": {},
   "source": [
    "<video class=\"center-block\" width=\"320\" height=\"240\" controls>\n",
    "    <source src=\"ET3034TUx-3.2.1-video.360.mp4\" type=\"video/mp4\">\n",
    "</video>"
   ]
  },
  {
   "cell_type": "code",
   "execution_count": 15,
   "metadata": {
    "collapsed": false
   },
   "outputs": [
    {
     "name": "stdout",
     "output_type": "stream",
     "text": [
      "Fichier ouvert sans arguments\n"
     ]
    }
   ],
   "source": [
    "exec(open('main.py').read())"
   ]
  },
  {
   "cell_type": "code",
   "execution_count": 42,
   "metadata": {
    "collapsed": false
   },
   "outputs": [
    {
     "name": "stdout",
     "output_type": "stream",
     "text": [
      "La température par défault est de 300 K\n",
      "Veuillez saisire une température : 200\n"
     ]
    },
    {
     "data": {
      "image/png": "[encoded data removed]",
      "text/plain": [
       "<matplotlib.figure.Figure at 0x115b76320>"
      ]
     },
     "metadata": {},
     "output_type": "display_data"
    }
   ],
   "source": [
    "op('solar_perf.py',exec)"
   ]
  },
  {
   "cell_type": "code",
   "execution_count": 17,
   "metadata": {
    "collapsed": false
   },
   "outputs": [
    {
     "name": "stdout",
     "output_type": "stream",
     "text": [
      "#//****** Fill Factor and Open-Circuit Voltage *********//\n",
      "\n",
      "#//The fill factor FF is defined as:\n",
      "\n",
      "#//FF=(Jmp*Vmp)/(Jsc*Voc) //(1)\n",
      "\n",
      "#// Jmp //current density at maximum power point\n",
      "#// Vmp //voltage at maximum power point\n",
      "#// Jsc //short-circuit current density\n",
      "#// Voc //open-circuit voltage\n",
      "\n",
      "#//default values\n",
      "Jph=35 #//mA/cm2\n",
      "J0=1.95e-10 #//mA/cm2\n",
      "T=int(input('La température par défault est de 300 K\\nVeuillez saisire une température : ')) #//K\n",
      "n=1\n",
      "V=np.linspace(0,1,100) #//V\n",
      "\n",
      "alpha=cst.q/(n*cst.k*T)\n",
      "J=Jph-J0*(np.exp(alpha*V)-1); #//(3)\n",
      "plt.plot(J,V)\n",
      "plt.show()\n"
     ]
    }
   ],
   "source": [
    "op('solar_perf.py',print)"
   ]
  },
  {
   "cell_type": "code",
   "execution_count": 22,
   "metadata": {
    "collapsed": true
   },
   "outputs": [],
   "source": [
    "from IPython.display import HTML"
   ]
  },
  {
   "cell_type": "code",
   "execution_count": null,
   "metadata": {
    "collapsed": false
   },
   "outputs": [],
   "source": [
    "%%HTML\n",
    "<audio controls>\n",
    "  <source src=\"ET3034TUx-3.2.1-video.360.mp4\">\n",
    "</audio>"
   ]
  },
  {
   "cell_type": "code",
   "execution_count": null,
   "metadata": {
    "collapsed": true
   },
   "outputs": [],
   "source": []
  }
 ],
 "metadata": {
  "kernelspec": {
   "display_name": "Python 3",
   "language": "python",
   "name": "python3"
  },
  "language_info": {
   "codemirror_mode": {
    "name": "ipython",
    "version": 3
   },
   "file_extension": ".py",
   "mimetype": "text/x-python",
   "name": "python",
   "nbconvert_exporter": "python",
   "pygments_lexer": "ipython3",
   "version": "3.6.0"
  }
 },
 "nbformat": 4,
 "nbformat_minor": 2
}
